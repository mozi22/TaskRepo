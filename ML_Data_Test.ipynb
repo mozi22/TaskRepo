{
 "cells": [
  {
   "cell_type": "code",
   "execution_count": 141,
   "metadata": {},
   "outputs": [],
   "source": [
    "import pandas as pd\n",
    "from pyspark import SparkContext\n",
    "from pyspark.sql.functions import explode, col, split, udf, lit, regexp_replace"
   ]
  },
  {
   "cell_type": "markdown",
   "metadata": {},
   "source": [
    "## Task 1\n",
    "\n",
    "### Goal 1 ( Pandas Version )\n",
    "\n",
    "##### Read the TSV"
   ]
  },
  {
   "cell_type": "code",
   "execution_count": 69,
   "metadata": {},
   "outputs": [
    {
     "data": {
      "text/html": [
       "<div>\n",
       "<style scoped>\n",
       "    .dataframe tbody tr th:only-of-type {\n",
       "        vertical-align: middle;\n",
       "    }\n",
       "\n",
       "    .dataframe tbody tr th {\n",
       "        vertical-align: top;\n",
       "    }\n",
       "\n",
       "    .dataframe thead th {\n",
       "        text-align: right;\n",
       "    }\n",
       "</style>\n",
       "<table border=\"1\" class=\"dataframe\">\n",
       "  <thead>\n",
       "    <tr style=\"text-align: right;\">\n",
       "      <th></th>\n",
       "      <th>user_uid</th>\n",
       "      <th>category</th>\n",
       "      <th>event_type</th>\n",
       "    </tr>\n",
       "  </thead>\n",
       "  <tbody>\n",
       "    <tr>\n",
       "      <th>0</th>\n",
       "      <td>123</td>\n",
       "      <td>fashion</td>\n",
       "      <td>teaser_displayed</td>\n",
       "    </tr>\n",
       "    <tr>\n",
       "      <th>1</th>\n",
       "      <td>123</td>\n",
       "      <td>sports</td>\n",
       "      <td>teaser_opened</td>\n",
       "    </tr>\n",
       "    <tr>\n",
       "      <th>2</th>\n",
       "      <td>123</td>\n",
       "      <td>politics</td>\n",
       "      <td>teaser_opened</td>\n",
       "    </tr>\n",
       "    <tr>\n",
       "      <th>3</th>\n",
       "      <td>456</td>\n",
       "      <td>technology</td>\n",
       "      <td>teaser_opened</td>\n",
       "    </tr>\n",
       "    <tr>\n",
       "      <th>4</th>\n",
       "      <td>456</td>\n",
       "      <td>technology</td>\n",
       "      <td>teaser_opened</td>\n",
       "    </tr>\n",
       "    <tr>\n",
       "      <th>5</th>\n",
       "      <td>457</td>\n",
       "      <td>technology</td>\n",
       "      <td>teaser_opened</td>\n",
       "    </tr>\n",
       "  </tbody>\n",
       "</table>\n",
       "</div>"
      ],
      "text/plain": [
       "   user_uid    category        event_type\n",
       "0       123     fashion  teaser_displayed\n",
       "1       123      sports     teaser_opened\n",
       "2       123    politics     teaser_opened\n",
       "3       456  technology     teaser_opened\n",
       "4       456  technology     teaser_opened\n",
       "5       457  technology     teaser_opened"
      ]
     },
     "execution_count": 69,
     "metadata": {},
     "output_type": "execute_result"
    }
   ],
   "source": [
    "df = pd.read_csv('./events.txt', sep=' ')\n",
    "df"
   ]
  },
  {
   "cell_type": "markdown",
   "metadata": {},
   "source": [
    "##### Find all the \"teaser_opened\" records"
   ]
  },
  {
   "cell_type": "code",
   "execution_count": 65,
   "metadata": {},
   "outputs": [
    {
     "data": {
      "text/html": [
       "<div>\n",
       "<style scoped>\n",
       "    .dataframe tbody tr th:only-of-type {\n",
       "        vertical-align: middle;\n",
       "    }\n",
       "\n",
       "    .dataframe tbody tr th {\n",
       "        vertical-align: top;\n",
       "    }\n",
       "\n",
       "    .dataframe thead th {\n",
       "        text-align: right;\n",
       "    }\n",
       "</style>\n",
       "<table border=\"1\" class=\"dataframe\">\n",
       "  <thead>\n",
       "    <tr style=\"text-align: right;\">\n",
       "      <th></th>\n",
       "      <th>user_uid</th>\n",
       "      <th>category</th>\n",
       "      <th>event_type</th>\n",
       "    </tr>\n",
       "  </thead>\n",
       "  <tbody>\n",
       "    <tr>\n",
       "      <th>1</th>\n",
       "      <td>123</td>\n",
       "      <td>sports</td>\n",
       "      <td>teaser_opened</td>\n",
       "    </tr>\n",
       "    <tr>\n",
       "      <th>2</th>\n",
       "      <td>123</td>\n",
       "      <td>politics</td>\n",
       "      <td>teaser_opened</td>\n",
       "    </tr>\n",
       "    <tr>\n",
       "      <th>3</th>\n",
       "      <td>456</td>\n",
       "      <td>technology</td>\n",
       "      <td>teaser_opened</td>\n",
       "    </tr>\n",
       "    <tr>\n",
       "      <th>4</th>\n",
       "      <td>456</td>\n",
       "      <td>technology</td>\n",
       "      <td>teaser_opened</td>\n",
       "    </tr>\n",
       "    <tr>\n",
       "      <th>5</th>\n",
       "      <td>457</td>\n",
       "      <td>technology</td>\n",
       "      <td>teaser_opened</td>\n",
       "    </tr>\n",
       "  </tbody>\n",
       "</table>\n",
       "</div>"
      ],
      "text/plain": [
       "   user_uid    category     event_type\n",
       "1       123      sports  teaser_opened\n",
       "2       123    politics  teaser_opened\n",
       "3       456  technology  teaser_opened\n",
       "4       456  technology  teaser_opened\n",
       "5       457  technology  teaser_opened"
      ]
     },
     "execution_count": 65,
     "metadata": {},
     "output_type": "execute_result"
    }
   ],
   "source": [
    "teaseropdf = df[df['event_type'].str.match('teaser_opened')]\n",
    "teaseropdf"
   ]
  },
  {
   "cell_type": "markdown",
   "metadata": {},
   "source": [
    "##### Group all the teaser_opened records w.r.t  userid and category"
   ]
  },
  {
   "cell_type": "code",
   "execution_count": 67,
   "metadata": {},
   "outputs": [
    {
     "data": {
      "text/plain": [
       "category    user_uid\n",
       "politics    123         1\n",
       "sports      123         1\n",
       "technology  456         2\n",
       "            457         1\n",
       "Name: event_type, dtype: int64"
      ]
     },
     "execution_count": 67,
     "metadata": {},
     "output_type": "execute_result"
    }
   ],
   "source": [
    "teaseropdf.groupby(['category','user_uid']).event_type.count()"
   ]
  },
  {
   "cell_type": "markdown",
   "metadata": {},
   "source": [
    "### Goal 2 ( PySpark Version )"
   ]
  },
  {
   "cell_type": "code",
   "execution_count": 135,
   "metadata": {},
   "outputs": [
    {
     "data": {
      "text/plain": [
       "[Row(user_uid=u'123', category=u'[fashion,sports]', event_type=u'teaser_displayed'),\n",
       " Row(user_uid=u'123', category=u'[fashion,politics]', event_type=u'teaser_opened'),\n",
       " Row(user_uid=u'456', category=u'[technology]', event_type=u'teaser_opened'),\n",
       " Row(user_uid=u'456', category=u'[sports,technology]', event_type=u'teaser_opened'),\n",
       " Row(user_uid=u'457', category=u'[technology]', event_type=u'teaser_opened')]"
      ]
     },
     "execution_count": 135,
     "metadata": {},
     "output_type": "execute_result"
    }
   ],
   "source": [
    "spark = SparkSession.builder \\\n",
    "     .master(\"local\") \\\n",
    "     .appName(\"Group Task\") \\\n",
    "     .getOrCreate()\n",
    "\n",
    "sparkdf = spark.read.csv(\n",
    "      # for goal 2 version\n",
    "#    \"./events.txt\", header=True, sep=' '\n",
    "    \n",
    "      # for bonus version\n",
    "    \"./events2.txt\", header=True, sep=' '\n",
    ")\n",
    "\n",
    "sparkdf.take(10)"
   ]
  },
  {
   "cell_type": "code",
   "execution_count": 134,
   "metadata": {},
   "outputs": [
    {
     "name": "stdout",
     "output_type": "stream",
     "text": [
      "+----------+--------+-----+\n",
      "|  category|user_uid|count|\n",
      "+----------+--------+-----+\n",
      "|technology|     456|    2|\n",
      "|  politics|     123|    1|\n",
      "|technology|     457|    1|\n",
      "|    sports|     123|    1|\n",
      "+----------+--------+-----+\n",
      "\n"
     ]
    }
   ],
   "source": [
    "sparkdf.filter(\"event_type = 'teaser_opened'\").groupby('category','user_uid').count().show()"
   ]
  },
  {
   "cell_type": "markdown",
   "metadata": {},
   "source": [
    "### Bonus ( PySpark version ) \n",
    "###### uses events2.txt"
   ]
  },
  {
   "cell_type": "code",
   "execution_count": 136,
   "metadata": {},
   "outputs": [
    {
     "name": "stdout",
     "output_type": "stream",
     "text": [
      "+--------+----------+-----+\n",
      "|user_uid|  category|count|\n",
      "+--------+----------+-----+\n",
      "|     457|technology|    1|\n",
      "|     456|technology|    2|\n",
      "|     456|    sports|    1|\n",
      "|     123|   fashion|    1|\n",
      "|     123|  politics|    1|\n",
      "+--------+----------+-----+\n",
      "\n"
     ]
    }
   ],
   "source": [
    "# make sure we only get teaser_opened and than perform our operations for efficiency\n",
    "sparkdf = sparkdf.filter(\"event_type = 'teaser_opened'\")\n",
    "\n",
    "s2 = sparkdf.withColumn('category', regexp_replace('category', '\\[*\\]*', ''))\n",
    "\n",
    "s2.select(col(\"user_uid\"),explode(split(col(\"category\"),\",\")).alias('category')) \\\n",
    "  .groupby('user_uid','category').count().show()\n"
   ]
  },
  {
   "cell_type": "markdown",
   "metadata": {},
   "source": [
    "### Task 2:\n",
    "\n",
    "The queries are implemented without testing and basic understanding of the problem with hand. \n",
    "\n",
    "##### Goal 1:"
   ]
  },
  {
   "cell_type": "markdown",
   "metadata": {},
   "source": [
    "SELECT\n",
    "    COUNT(DISTINCT session_id) AS session_count,\n",
    "    COUNT(DISTINCT user_id) AS user_id,\n",
    "    SUM(CASE WHEN event_name = 'top_news_card_viewed' THEN 1 ELSE 0 END) AS tn_count\n",
    "FROM\n",
    "    source_blacklisted_sessions sbs\n",
    "INNER JOIN  \n",
    "    tn_count_pdt tnc \n",
    "ON \n",
    "    tns.session_id = sbs.session_id \n",
    "AND\n",
    "    tns.user_id = sbs.user_id \n"
   ]
  },
  {
   "cell_type": "markdown",
   "metadata": {},
   "source": [
    "##### Goal 2:\n",
    "\n",
    "* **CASE** is used 2 times as a subquery for count. This can be reduced with a **WHERE** clause\n",
    "* No need to use **DISTINCT** when you already have a condition **event_name='article_shared'**\n",
    "\n",
    "A simpler version of the query is written below.\n",
    "\n",
    "**Note:** This is not a tested query. But only written to give an idea on how it should properly be, based on my understanding."
   ]
  },
  {
   "cell_type": "code",
   "execution_count": null,
   "metadata": {},
   "outputs": [],
   "source": [
    "SELECT \n",
    "    COUNT(event_id) as share_count, \n",
    "    COUNT(user_id) as user_share_count \n",
    "FROM \n",
    "    events_table \n",
    "WHERE \n",
    "    event_name='article_shared' \n",
    "\n",
    "GROUP BY \n",
    "    event_id \n",
    "\n",
    "HAVING\n",
    "    (country NOT IN('de','fr','be','gb'));\n"
   ]
  }
 ],
 "metadata": {
  "kernelspec": {
   "display_name": "Python 2",
   "language": "python",
   "name": "python2"
  },
  "language_info": {
   "codemirror_mode": {
    "name": "ipython",
    "version": 2
   },
   "file_extension": ".py",
   "mimetype": "text/x-python",
   "name": "python",
   "nbconvert_exporter": "python",
   "pygments_lexer": "ipython2",
   "version": "2.7.10"
  }
 },
 "nbformat": 4,
 "nbformat_minor": 2
}
